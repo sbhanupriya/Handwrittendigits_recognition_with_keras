{
  "nbformat": 4,
  "nbformat_minor": 0,
  "metadata": {
    "colab": {
      "name": "Handwriting_recognition_1.ipynb",
      "provenance": [],
      "authorship_tag": "ABX9TyMJCa8wlFwd/J1P9iDCnBE8",
      "include_colab_link": true
    },
    "kernelspec": {
      "name": "python3",
      "display_name": "Python 3"
    },
    "accelerator": "GPU"
  },
  "cells": [
    {
      "cell_type": "markdown",
      "metadata": {
        "id": "view-in-github",
        "colab_type": "text"
      },
      "source": [
        "<a href=\"https://colab.research.google.com/github/sbhanupriya/Handwrittendigits_recognition_with_keras/blob/master/Handwriting_recognition_1.ipynb\" target=\"_parent\"><img src=\"https://colab.research.google.com/assets/colab-badge.svg\" alt=\"Open In Colab\"/></a>"
      ]
    },
    {
      "cell_type": "markdown",
      "metadata": {
        "id": "O55LdAAIam6T",
        "colab_type": "text"
      },
      "source": [
        "**Improved Version Using hidden layers**"
      ]
    },
    {
      "cell_type": "code",
      "metadata": {
        "id": "nJPQaj4TahKA",
        "colab_type": "code",
        "outputId": "42bcb037-7846-4a55-a8c0-bce9289a2096",
        "colab": {
          "base_uri": "https://localhost:8080/",
          "height": 79
        }
      },
      "source": [
        "from __future__ import print_function \n",
        "import numpy as np \n",
        "from keras.datasets import mnist \n",
        "from keras.models import Sequential \n",
        "from keras.layers.core import Dense, Activation \n",
        "from keras.utils import np_utils\n",
        "from keras.optimizers import SGD\n",
        "np.random.seed(1671) "
      ],
      "execution_count": 0,
      "outputs": [
        {
          "output_type": "stream",
          "text": [
            "Using TensorFlow backend.\n"
          ],
          "name": "stderr"
        },
        {
          "output_type": "display_data",
          "data": {
            "text/html": [
              "<p style=\"color: red;\">\n",
              "The default version of TensorFlow in Colab will soon switch to TensorFlow 2.x.<br>\n",
              "We recommend you <a href=\"https://www.tensorflow.org/guide/migrate\" target=\"_blank\">upgrade</a> now \n",
              "or ensure your notebook will continue to use TensorFlow 1.x via the <code>%tensorflow_version 1.x</code> magic:\n",
              "<a href=\"https://colab.research.google.com/notebooks/tensorflow_version.ipynb\" target=\"_blank\">more info</a>.</p>\n"
            ],
            "text/plain": [
              "<IPython.core.display.HTML object>"
            ]
          },
          "metadata": {
            "tags": []
          }
        }
      ]
    },
    {
      "cell_type": "code",
      "metadata": {
        "id": "4las-giZa7rR",
        "colab_type": "code",
        "colab": {}
      },
      "source": [
        "NB_EPOCH = 20\n",
        "BATCH_SIZE = 128\n",
        "VERBOSE = 1\n",
        "NB_CLASSES = 10 # number of outputs = number of digits\n",
        "OPTIMIZER = SGD() # optimizer, explained later in this chapter\n",
        "N_HIDDEN = 128 \n",
        "VALIDATION_SPLIT=0.2 # how much TRAIN is reserved for VALIDATION # data: shuffled and split between train and test sets \n",
        "(X_train, y_train), (X_test, y_test) = mnist.load_data() #X_train is 60000 rows of 28x28 values --> reshaped in 60000 x 784 \n",
        "RESHAPED = 784 "
      ],
      "execution_count": 0,
      "outputs": []
    },
    {
      "cell_type": "code",
      "metadata": {
        "id": "3ZUQkHaIbF7B",
        "colab_type": "code",
        "outputId": "0478fe7f-b0c7-4cb7-cbdf-752c35b3c939",
        "colab": {
          "base_uri": "https://localhost:8080/",
          "height": 50
        }
      },
      "source": [
        "X_train = X_train.reshape(60000, RESHAPED) \n",
        "X_test = X_test.reshape(10000, RESHAPED) \n",
        "X_train = X_train.astype('float32') \n",
        "X_test = X_test.astype('float32') # normalize \n",
        "X_train /= 255 \n",
        "X_test /= 255 \n",
        "print(X_train.shape[0], 'train samples') \n",
        "print(X_test.shape[0], 'test samples') "
      ],
      "execution_count": 0,
      "outputs": [
        {
          "output_type": "stream",
          "text": [
            "60000 train samples\n",
            "10000 test samples\n"
          ],
          "name": "stdout"
        }
      ]
    },
    {
      "cell_type": "code",
      "metadata": {
        "id": "6ffv5h46b59X",
        "colab_type": "code",
        "colab": {}
      },
      "source": [
        "Y_train = np_utils.to_categorical(y_train, NB_CLASSES) \n",
        "Y_test = np_utils.to_categorical(y_test, NB_CLASSES) "
      ],
      "execution_count": 0,
      "outputs": []
    },
    {
      "cell_type": "code",
      "metadata": {
        "id": "3MJltHUycB9Q",
        "colab_type": "code",
        "outputId": "d6156fc5-25e2-45ee-bee0-cef7ca81a0a7",
        "colab": {
          "base_uri": "https://localhost:8080/",
          "height": 541
        }
      },
      "source": [
        "model = Sequential() \n",
        "model.add(Dense(N_HIDDEN, input_shape=(RESHAPED,))) \n",
        "model.add(Activation('relu')) \n",
        "model.add(Dense(N_HIDDEN)) \n",
        "model.add(Activation('relu')) \n",
        "model.add(Dense(NB_CLASSES)) \n",
        "model.add(Activation('softmax')) \n",
        "model.summary() \n",
        "model.compile(loss='categorical_crossentropy', optimizer=OPTIMIZER, metrics=['accuracy'])"
      ],
      "execution_count": 0,
      "outputs": [
        {
          "output_type": "stream",
          "text": [
            "WARNING:tensorflow:From /usr/local/lib/python3.6/dist-packages/keras/backend/tensorflow_backend.py:66: The name tf.get_default_graph is deprecated. Please use tf.compat.v1.get_default_graph instead.\n",
            "\n",
            "WARNING:tensorflow:From /usr/local/lib/python3.6/dist-packages/keras/backend/tensorflow_backend.py:541: The name tf.placeholder is deprecated. Please use tf.compat.v1.placeholder instead.\n",
            "\n",
            "WARNING:tensorflow:From /usr/local/lib/python3.6/dist-packages/keras/backend/tensorflow_backend.py:4432: The name tf.random_uniform is deprecated. Please use tf.random.uniform instead.\n",
            "\n",
            "Model: \"sequential_1\"\n",
            "_________________________________________________________________\n",
            "Layer (type)                 Output Shape              Param #   \n",
            "=================================================================\n",
            "dense_1 (Dense)              (None, 128)               100480    \n",
            "_________________________________________________________________\n",
            "activation_1 (Activation)    (None, 128)               0         \n",
            "_________________________________________________________________\n",
            "dense_2 (Dense)              (None, 128)               16512     \n",
            "_________________________________________________________________\n",
            "activation_2 (Activation)    (None, 128)               0         \n",
            "_________________________________________________________________\n",
            "dense_3 (Dense)              (None, 10)                1290      \n",
            "_________________________________________________________________\n",
            "activation_3 (Activation)    (None, 10)                0         \n",
            "=================================================================\n",
            "Total params: 118,282\n",
            "Trainable params: 118,282\n",
            "Non-trainable params: 0\n",
            "_________________________________________________________________\n",
            "WARNING:tensorflow:From /usr/local/lib/python3.6/dist-packages/keras/optimizers.py:793: The name tf.train.Optimizer is deprecated. Please use tf.compat.v1.train.Optimizer instead.\n",
            "\n",
            "WARNING:tensorflow:From /usr/local/lib/python3.6/dist-packages/keras/backend/tensorflow_backend.py:3576: The name tf.log is deprecated. Please use tf.math.log instead.\n",
            "\n"
          ],
          "name": "stdout"
        }
      ]
    },
    {
      "cell_type": "code",
      "metadata": {
        "id": "vKfGTfF8cUpz",
        "colab_type": "code",
        "outputId": "dd3d449a-f4ca-484f-cc5d-abbcebc3a4d1",
        "colab": {
          "base_uri": "https://localhost:8080/",
          "height": 1000
        }
      },
      "source": [
        "history = model.fit(X_train, Y_train, batch_size=BATCH_SIZE, epochs=NB_EPOCH,verbose=VERBOSE, validation_split=VALIDATION_SPLIT) \n",
        "score = model.evaluate(X_test, Y_test, verbose=VERBOSE) \n",
        "print(\"Test score:\", score[0]) \n",
        "print('Test accuracy:', score[1]) "
      ],
      "execution_count": 0,
      "outputs": [
        {
          "output_type": "stream",
          "text": [
            "WARNING:tensorflow:From /usr/local/lib/python3.6/dist-packages/tensorflow_core/python/ops/math_grad.py:1424: where (from tensorflow.python.ops.array_ops) is deprecated and will be removed in a future version.\n",
            "Instructions for updating:\n",
            "Use tf.where in 2.0, which has the same broadcast rule as np.where\n",
            "WARNING:tensorflow:From /usr/local/lib/python3.6/dist-packages/keras/backend/tensorflow_backend.py:1033: The name tf.assign_add is deprecated. Please use tf.compat.v1.assign_add instead.\n",
            "\n",
            "WARNING:tensorflow:From /usr/local/lib/python3.6/dist-packages/keras/backend/tensorflow_backend.py:1020: The name tf.assign is deprecated. Please use tf.compat.v1.assign instead.\n",
            "\n",
            "WARNING:tensorflow:From /usr/local/lib/python3.6/dist-packages/keras/backend/tensorflow_backend.py:3005: The name tf.Session is deprecated. Please use tf.compat.v1.Session instead.\n",
            "\n",
            "Train on 48000 samples, validate on 12000 samples\n",
            "Epoch 1/20\n",
            "WARNING:tensorflow:From /usr/local/lib/python3.6/dist-packages/keras/backend/tensorflow_backend.py:190: The name tf.get_default_session is deprecated. Please use tf.compat.v1.get_default_session instead.\n",
            "\n",
            "WARNING:tensorflow:From /usr/local/lib/python3.6/dist-packages/keras/backend/tensorflow_backend.py:197: The name tf.ConfigProto is deprecated. Please use tf.compat.v1.ConfigProto instead.\n",
            "\n",
            "WARNING:tensorflow:From /usr/local/lib/python3.6/dist-packages/keras/backend/tensorflow_backend.py:207: The name tf.global_variables is deprecated. Please use tf.compat.v1.global_variables instead.\n",
            "\n",
            "WARNING:tensorflow:From /usr/local/lib/python3.6/dist-packages/keras/backend/tensorflow_backend.py:216: The name tf.is_variable_initialized is deprecated. Please use tf.compat.v1.is_variable_initialized instead.\n",
            "\n",
            "WARNING:tensorflow:From /usr/local/lib/python3.6/dist-packages/keras/backend/tensorflow_backend.py:223: The name tf.variables_initializer is deprecated. Please use tf.compat.v1.variables_initializer instead.\n",
            "\n",
            "48000/48000 [==============================] - 11s 220us/step - loss: 1.4829 - acc: 0.6231 - val_loss: 0.7584 - val_acc: 0.8286\n",
            "Epoch 2/20\n",
            "48000/48000 [==============================] - 1s 25us/step - loss: 0.6049 - acc: 0.8464 - val_loss: 0.4550 - val_acc: 0.8852\n",
            "Epoch 3/20\n",
            "48000/48000 [==============================] - 1s 26us/step - loss: 0.4398 - acc: 0.8801 - val_loss: 0.3710 - val_acc: 0.9019\n",
            "Epoch 4/20\n",
            "48000/48000 [==============================] - 1s 28us/step - loss: 0.3767 - acc: 0.8952 - val_loss: 0.3322 - val_acc: 0.9082\n",
            "Epoch 5/20\n",
            "48000/48000 [==============================] - 1s 27us/step - loss: 0.3415 - acc: 0.9025 - val_loss: 0.3055 - val_acc: 0.9147\n",
            "Epoch 6/20\n",
            "48000/48000 [==============================] - 1s 27us/step - loss: 0.3175 - acc: 0.9085 - val_loss: 0.2880 - val_acc: 0.9182\n",
            "Epoch 7/20\n",
            "48000/48000 [==============================] - 1s 24us/step - loss: 0.2989 - acc: 0.9137 - val_loss: 0.2727 - val_acc: 0.9224\n",
            "Epoch 8/20\n",
            "48000/48000 [==============================] - 1s 25us/step - loss: 0.2839 - acc: 0.9179 - val_loss: 0.2608 - val_acc: 0.9266\n",
            "Epoch 9/20\n",
            "48000/48000 [==============================] - 1s 27us/step - loss: 0.2714 - acc: 0.9218 - val_loss: 0.2505 - val_acc: 0.9299\n",
            "Epoch 10/20\n",
            "48000/48000 [==============================] - 1s 29us/step - loss: 0.2602 - acc: 0.9252 - val_loss: 0.2430 - val_acc: 0.9307\n",
            "Epoch 11/20\n",
            "48000/48000 [==============================] - 1s 27us/step - loss: 0.2501 - acc: 0.9286 - val_loss: 0.2341 - val_acc: 0.9335\n",
            "Epoch 12/20\n",
            "48000/48000 [==============================] - 1s 26us/step - loss: 0.2409 - acc: 0.9301 - val_loss: 0.2271 - val_acc: 0.9352\n",
            "Epoch 13/20\n",
            "48000/48000 [==============================] - 1s 26us/step - loss: 0.2325 - acc: 0.9333 - val_loss: 0.2227 - val_acc: 0.9368\n",
            "Epoch 14/20\n",
            "48000/48000 [==============================] - 1s 24us/step - loss: 0.2253 - acc: 0.9354 - val_loss: 0.2147 - val_acc: 0.9395\n",
            "Epoch 15/20\n",
            "48000/48000 [==============================] - 1s 28us/step - loss: 0.2181 - acc: 0.9375 - val_loss: 0.2082 - val_acc: 0.9410\n",
            "Epoch 16/20\n",
            "48000/48000 [==============================] - 1s 27us/step - loss: 0.2116 - acc: 0.9393 - val_loss: 0.2030 - val_acc: 0.9430\n",
            "Epoch 17/20\n",
            "48000/48000 [==============================] - 1s 26us/step - loss: 0.2055 - acc: 0.9414 - val_loss: 0.1981 - val_acc: 0.9444\n",
            "Epoch 18/20\n",
            "48000/48000 [==============================] - 1s 25us/step - loss: 0.1996 - acc: 0.9430 - val_loss: 0.1932 - val_acc: 0.9458\n",
            "Epoch 19/20\n",
            "48000/48000 [==============================] - 1s 26us/step - loss: 0.1941 - acc: 0.9432 - val_loss: 0.1894 - val_acc: 0.9468\n",
            "Epoch 20/20\n",
            "48000/48000 [==============================] - 1s 27us/step - loss: 0.1890 - acc: 0.9456 - val_loss: 0.1849 - val_acc: 0.9497\n",
            "10000/10000 [==============================] - 0s 33us/step\n",
            "Test score: 0.18600198065191506\n",
            "Test accuracy: 0.9463\n"
          ],
          "name": "stdout"
        }
      ]
    }
  ]
}